{
 "cells": [
  {
   "cell_type": "markdown",
   "id": "afbb658e",
   "metadata": {},
   "source": [
    "# PAYMENT FRAUD DETECTION"
   ]
  },
  {
   "cell_type": "markdown",
   "id": "a8d60bce",
   "metadata": {},
   "source": [
    "**------------------------------------------------------------------------------------------------------------------------------------------------------------------------------------------------------------------**"
   ]
  },
  {
   "cell_type": "markdown",
   "id": "c8a4257f",
   "metadata": {},
   "source": [
    "## <font color=dodgerblue> Importing Libraries</font>"
   ]
  },
  {
   "cell_type": "markdown",
   "id": "3ca0c0aa",
   "metadata": {},
   "source": [
    "* **Pandas**"
   ]
  },
  {
   "cell_type": "code",
   "execution_count": 3,
   "id": "801ee289",
   "metadata": {},
   "outputs": [],
   "source": [
    "import pandas as pd"
   ]
  },
  {
   "cell_type": "markdown",
   "id": "7a4af3d8",
   "metadata": {},
   "source": [
    "## <font color=dodgerblue> Reading the Dataset </font>"
   ]
  },
  {
   "cell_type": "code",
   "execution_count": 4,
   "id": "568e5cb9",
   "metadata": {},
   "outputs": [],
   "source": [
    "data = pd.read_csv(\"PS_20174392719_1491204439457_log.csv\")"
   ]
  },
  {
   "cell_type": "markdown",
   "id": "fc1235f6",
   "metadata": {},
   "source": [
    "## <font color=dodgerblue> Finding Information </font>"
   ]
  },
  {
   "cell_type": "markdown",
   "id": "ecafd84c",
   "metadata": {},
   "source": [
    " - **Total Entries - <font color=deeppink> 63,62,620 </font>**\n",
    " - **Total Columns - <font color=deeppink> 11 </font>**\n",
    " - **Float Datatype - <font color=deeppink> 5 Columns </font>**\n",
    " - **Object Datatype - <font color=deeppink> 3 Columns </font>**\n",
    " - **Integer Datatype - <font color=deeppink> 3 Columns </font>**"
   ]
  },
  {
   "cell_type": "code",
   "execution_count": 6,
   "id": "5ddd16ff",
   "metadata": {},
   "outputs": [
    {
     "name": "stdout",
     "output_type": "stream",
     "text": [
      "<class 'pandas.core.frame.DataFrame'>\n",
      "RangeIndex: 6362620 entries, 0 to 6362619\n",
      "Data columns (total 11 columns):\n",
      " #   Column          Dtype  \n",
      "---  ------          -----  \n",
      " 0   step            int64  \n",
      " 1   type            object \n",
      " 2   amount          float64\n",
      " 3   nameOrig        object \n",
      " 4   oldbalanceOrg   float64\n",
      " 5   newbalanceOrig  float64\n",
      " 6   nameDest        object \n",
      " 7   oldbalanceDest  float64\n",
      " 8   newbalanceDest  float64\n",
      " 9   isFraud         int64  \n",
      " 10  isFlaggedFraud  int64  \n",
      "dtypes: float64(5), int64(3), object(3)\n",
      "memory usage: 534.0+ MB\n"
     ]
    }
   ],
   "source": [
    "data.info()"
   ]
  },
  {
   "cell_type": "markdown",
   "id": "e080f3d3",
   "metadata": {},
   "source": [
    "## <font color=dodgerblue> Checking Top 5 Records </font>"
   ]
  },
  {
   "cell_type": "code",
   "execution_count": 7,
   "id": "228001fb",
   "metadata": {},
   "outputs": [
    {
     "data": {
      "text/html": [
       "<div>\n",
       "<style scoped>\n",
       "    .dataframe tbody tr th:only-of-type {\n",
       "        vertical-align: middle;\n",
       "    }\n",
       "\n",
       "    .dataframe tbody tr th {\n",
       "        vertical-align: top;\n",
       "    }\n",
       "\n",
       "    .dataframe thead th {\n",
       "        text-align: right;\n",
       "    }\n",
       "</style>\n",
       "<table border=\"1\" class=\"dataframe\">\n",
       "  <thead>\n",
       "    <tr style=\"text-align: right;\">\n",
       "      <th></th>\n",
       "      <th>step</th>\n",
       "      <th>type</th>\n",
       "      <th>amount</th>\n",
       "      <th>nameOrig</th>\n",
       "      <th>oldbalanceOrg</th>\n",
       "      <th>newbalanceOrig</th>\n",
       "      <th>nameDest</th>\n",
       "      <th>oldbalanceDest</th>\n",
       "      <th>newbalanceDest</th>\n",
       "      <th>isFraud</th>\n",
       "      <th>isFlaggedFraud</th>\n",
       "    </tr>\n",
       "  </thead>\n",
       "  <tbody>\n",
       "    <tr>\n",
       "      <th>0</th>\n",
       "      <td>1</td>\n",
       "      <td>PAYMENT</td>\n",
       "      <td>9839.64</td>\n",
       "      <td>C1231006815</td>\n",
       "      <td>170136.0</td>\n",
       "      <td>160296.36</td>\n",
       "      <td>M1979787155</td>\n",
       "      <td>0.0</td>\n",
       "      <td>0.0</td>\n",
       "      <td>0</td>\n",
       "      <td>0</td>\n",
       "    </tr>\n",
       "    <tr>\n",
       "      <th>1</th>\n",
       "      <td>1</td>\n",
       "      <td>PAYMENT</td>\n",
       "      <td>1864.28</td>\n",
       "      <td>C1666544295</td>\n",
       "      <td>21249.0</td>\n",
       "      <td>19384.72</td>\n",
       "      <td>M2044282225</td>\n",
       "      <td>0.0</td>\n",
       "      <td>0.0</td>\n",
       "      <td>0</td>\n",
       "      <td>0</td>\n",
       "    </tr>\n",
       "    <tr>\n",
       "      <th>2</th>\n",
       "      <td>1</td>\n",
       "      <td>TRANSFER</td>\n",
       "      <td>181.00</td>\n",
       "      <td>C1305486145</td>\n",
       "      <td>181.0</td>\n",
       "      <td>0.00</td>\n",
       "      <td>C553264065</td>\n",
       "      <td>0.0</td>\n",
       "      <td>0.0</td>\n",
       "      <td>1</td>\n",
       "      <td>0</td>\n",
       "    </tr>\n",
       "    <tr>\n",
       "      <th>3</th>\n",
       "      <td>1</td>\n",
       "      <td>CASH_OUT</td>\n",
       "      <td>181.00</td>\n",
       "      <td>C840083671</td>\n",
       "      <td>181.0</td>\n",
       "      <td>0.00</td>\n",
       "      <td>C38997010</td>\n",
       "      <td>21182.0</td>\n",
       "      <td>0.0</td>\n",
       "      <td>1</td>\n",
       "      <td>0</td>\n",
       "    </tr>\n",
       "    <tr>\n",
       "      <th>4</th>\n",
       "      <td>1</td>\n",
       "      <td>PAYMENT</td>\n",
       "      <td>11668.14</td>\n",
       "      <td>C2048537720</td>\n",
       "      <td>41554.0</td>\n",
       "      <td>29885.86</td>\n",
       "      <td>M1230701703</td>\n",
       "      <td>0.0</td>\n",
       "      <td>0.0</td>\n",
       "      <td>0</td>\n",
       "      <td>0</td>\n",
       "    </tr>\n",
       "  </tbody>\n",
       "</table>\n",
       "</div>"
      ],
      "text/plain": [
       "   step      type    amount     nameOrig  oldbalanceOrg  newbalanceOrig  \\\n",
       "0     1   PAYMENT   9839.64  C1231006815       170136.0       160296.36   \n",
       "1     1   PAYMENT   1864.28  C1666544295        21249.0        19384.72   \n",
       "2     1  TRANSFER    181.00  C1305486145          181.0            0.00   \n",
       "3     1  CASH_OUT    181.00   C840083671          181.0            0.00   \n",
       "4     1   PAYMENT  11668.14  C2048537720        41554.0        29885.86   \n",
       "\n",
       "      nameDest  oldbalanceDest  newbalanceDest  isFraud  isFlaggedFraud  \n",
       "0  M1979787155             0.0             0.0        0               0  \n",
       "1  M2044282225             0.0             0.0        0               0  \n",
       "2   C553264065             0.0             0.0        1               0  \n",
       "3    C38997010         21182.0             0.0        1               0  \n",
       "4  M1230701703             0.0             0.0        0               0  "
      ]
     },
     "execution_count": 7,
     "metadata": {},
     "output_type": "execute_result"
    }
   ],
   "source": [
    "data.head(5)"
   ]
  },
  {
   "cell_type": "markdown",
   "id": "a04ff518",
   "metadata": {},
   "source": [
    "## <font color=dodgerblue> Dropping all the unnecessary columns </font>"
   ]
  },
  {
   "cell_type": "markdown",
   "id": "1787b60c",
   "metadata": {},
   "source": [
    " - **step**"
   ]
  },
  {
   "cell_type": "code",
   "execution_count": 9,
   "id": "3bbce54e",
   "metadata": {},
   "outputs": [],
   "source": [
    "data.drop('step',axis=1,inplace=True)"
   ]
  },
  {
   "cell_type": "markdown",
   "id": "26dd611c",
   "metadata": {},
   "source": [
    "## <font color=dodgerblue> Detailed Statistics on the Dataset </font>"
   ]
  },
  {
   "cell_type": "code",
   "execution_count": 10,
   "id": "281b9a05",
   "metadata": {},
   "outputs": [
    {
     "data": {
      "text/html": [
       "<div>\n",
       "<style scoped>\n",
       "    .dataframe tbody tr th:only-of-type {\n",
       "        vertical-align: middle;\n",
       "    }\n",
       "\n",
       "    .dataframe tbody tr th {\n",
       "        vertical-align: top;\n",
       "    }\n",
       "\n",
       "    .dataframe thead th {\n",
       "        text-align: right;\n",
       "    }\n",
       "</style>\n",
       "<table border=\"1\" class=\"dataframe\">\n",
       "  <thead>\n",
       "    <tr style=\"text-align: right;\">\n",
       "      <th></th>\n",
       "      <th>amount</th>\n",
       "      <th>oldbalanceOrg</th>\n",
       "      <th>newbalanceOrig</th>\n",
       "      <th>oldbalanceDest</th>\n",
       "      <th>newbalanceDest</th>\n",
       "      <th>isFraud</th>\n",
       "      <th>isFlaggedFraud</th>\n",
       "    </tr>\n",
       "  </thead>\n",
       "  <tbody>\n",
       "    <tr>\n",
       "      <th>count</th>\n",
       "      <td>6.362620e+06</td>\n",
       "      <td>6.362620e+06</td>\n",
       "      <td>6.362620e+06</td>\n",
       "      <td>6.362620e+06</td>\n",
       "      <td>6.362620e+06</td>\n",
       "      <td>6.362620e+06</td>\n",
       "      <td>6.362620e+06</td>\n",
       "    </tr>\n",
       "    <tr>\n",
       "      <th>mean</th>\n",
       "      <td>1.798619e+05</td>\n",
       "      <td>8.338831e+05</td>\n",
       "      <td>8.551137e+05</td>\n",
       "      <td>1.100702e+06</td>\n",
       "      <td>1.224996e+06</td>\n",
       "      <td>1.290820e-03</td>\n",
       "      <td>2.514687e-06</td>\n",
       "    </tr>\n",
       "    <tr>\n",
       "      <th>std</th>\n",
       "      <td>6.038582e+05</td>\n",
       "      <td>2.888243e+06</td>\n",
       "      <td>2.924049e+06</td>\n",
       "      <td>3.399180e+06</td>\n",
       "      <td>3.674129e+06</td>\n",
       "      <td>3.590480e-02</td>\n",
       "      <td>1.585775e-03</td>\n",
       "    </tr>\n",
       "    <tr>\n",
       "      <th>min</th>\n",
       "      <td>0.000000e+00</td>\n",
       "      <td>0.000000e+00</td>\n",
       "      <td>0.000000e+00</td>\n",
       "      <td>0.000000e+00</td>\n",
       "      <td>0.000000e+00</td>\n",
       "      <td>0.000000e+00</td>\n",
       "      <td>0.000000e+00</td>\n",
       "    </tr>\n",
       "    <tr>\n",
       "      <th>25%</th>\n",
       "      <td>1.338957e+04</td>\n",
       "      <td>0.000000e+00</td>\n",
       "      <td>0.000000e+00</td>\n",
       "      <td>0.000000e+00</td>\n",
       "      <td>0.000000e+00</td>\n",
       "      <td>0.000000e+00</td>\n",
       "      <td>0.000000e+00</td>\n",
       "    </tr>\n",
       "    <tr>\n",
       "      <th>50%</th>\n",
       "      <td>7.487194e+04</td>\n",
       "      <td>1.420800e+04</td>\n",
       "      <td>0.000000e+00</td>\n",
       "      <td>1.327057e+05</td>\n",
       "      <td>2.146614e+05</td>\n",
       "      <td>0.000000e+00</td>\n",
       "      <td>0.000000e+00</td>\n",
       "    </tr>\n",
       "    <tr>\n",
       "      <th>75%</th>\n",
       "      <td>2.087215e+05</td>\n",
       "      <td>1.073152e+05</td>\n",
       "      <td>1.442584e+05</td>\n",
       "      <td>9.430367e+05</td>\n",
       "      <td>1.111909e+06</td>\n",
       "      <td>0.000000e+00</td>\n",
       "      <td>0.000000e+00</td>\n",
       "    </tr>\n",
       "    <tr>\n",
       "      <th>max</th>\n",
       "      <td>9.244552e+07</td>\n",
       "      <td>5.958504e+07</td>\n",
       "      <td>4.958504e+07</td>\n",
       "      <td>3.560159e+08</td>\n",
       "      <td>3.561793e+08</td>\n",
       "      <td>1.000000e+00</td>\n",
       "      <td>1.000000e+00</td>\n",
       "    </tr>\n",
       "  </tbody>\n",
       "</table>\n",
       "</div>"
      ],
      "text/plain": [
       "             amount  oldbalanceOrg  newbalanceOrig  oldbalanceDest  \\\n",
       "count  6.362620e+06   6.362620e+06    6.362620e+06    6.362620e+06   \n",
       "mean   1.798619e+05   8.338831e+05    8.551137e+05    1.100702e+06   \n",
       "std    6.038582e+05   2.888243e+06    2.924049e+06    3.399180e+06   \n",
       "min    0.000000e+00   0.000000e+00    0.000000e+00    0.000000e+00   \n",
       "25%    1.338957e+04   0.000000e+00    0.000000e+00    0.000000e+00   \n",
       "50%    7.487194e+04   1.420800e+04    0.000000e+00    1.327057e+05   \n",
       "75%    2.087215e+05   1.073152e+05    1.442584e+05    9.430367e+05   \n",
       "max    9.244552e+07   5.958504e+07    4.958504e+07    3.560159e+08   \n",
       "\n",
       "       newbalanceDest       isFraud  isFlaggedFraud  \n",
       "count    6.362620e+06  6.362620e+06    6.362620e+06  \n",
       "mean     1.224996e+06  1.290820e-03    2.514687e-06  \n",
       "std      3.674129e+06  3.590480e-02    1.585775e-03  \n",
       "min      0.000000e+00  0.000000e+00    0.000000e+00  \n",
       "25%      0.000000e+00  0.000000e+00    0.000000e+00  \n",
       "50%      2.146614e+05  0.000000e+00    0.000000e+00  \n",
       "75%      1.111909e+06  0.000000e+00    0.000000e+00  \n",
       "max      3.561793e+08  1.000000e+00    1.000000e+00  "
      ]
     },
     "execution_count": 10,
     "metadata": {},
     "output_type": "execute_result"
    }
   ],
   "source": [
    "data.describe()"
   ]
  },
  {
   "cell_type": "markdown",
   "id": "4162ffb0",
   "metadata": {},
   "source": [
    "## <font color=DodgerBlue> Finding the Percentage of Null Values in each Column </font>"
   ]
  },
  {
   "cell_type": "markdown",
   "id": "dae34592",
   "metadata": {},
   "source": [
    " - **So we don't have any null values present in the Dataset**"
   ]
  },
  {
   "cell_type": "code",
   "execution_count": 12,
   "id": "32fe73e8",
   "metadata": {},
   "outputs": [
    {
     "data": {
      "text/plain": [
       "type              0.0\n",
       "amount            0.0\n",
       "nameOrig          0.0\n",
       "oldbalanceOrg     0.0\n",
       "newbalanceOrig    0.0\n",
       "nameDest          0.0\n",
       "oldbalanceDest    0.0\n",
       "newbalanceDest    0.0\n",
       "isFraud           0.0\n",
       "isFlaggedFraud    0.0\n",
       "dtype: float64"
      ]
     },
     "execution_count": 12,
     "metadata": {},
     "output_type": "execute_result"
    }
   ],
   "source": [
    "percentage_of_null_values = (data.isnull().sum() / data.isnull().count()) * 100\n",
    "round(percentage_of_null_values,2)"
   ]
  },
  {
   "cell_type": "markdown",
   "id": "0ae03f4f",
   "metadata": {},
   "source": [
    "## <font color=dodgerblue>Mapping the Values in isFraud and isFlagged Column</font>"
   ]
  },
  {
   "cell_type": "markdown",
   "id": "5e5f200a",
   "metadata": {},
   "source": [
    " - **Mapping 0 as Genuine and 1 as Fraud in isFraud Column**\n",
    " - **Mapping 0 as Flagged Genuine and 1 as Flagged Fraud in isFlaggedFraud Column**"
   ]
  },
  {
   "cell_type": "code",
   "execution_count": 13,
   "id": "9da6325a",
   "metadata": {},
   "outputs": [],
   "source": [
    "data[\"isFraud\"]=data.isFraud.map({0:\"Genuine\",1:\"Fraud\"})"
   ]
  },
  {
   "cell_type": "code",
   "execution_count": 14,
   "id": "acb6d05c",
   "metadata": {},
   "outputs": [],
   "source": [
    "data[\"isFlaggedFraud\"]=data.isFlaggedFraud.map({0:\"Flagged Genuine\",1:\"Flagged Fraud\"})"
   ]
  },
  {
   "cell_type": "markdown",
   "id": "817c78ae",
   "metadata": {},
   "source": [
    "## <font color=dodgerblue>Counting the Genuine and Fraud Data in isFraud Column</font>"
   ]
  },
  {
   "cell_type": "code",
   "execution_count": 16,
   "id": "7921b72e",
   "metadata": {},
   "outputs": [
    {
     "data": {
      "text/plain": [
       "Genuine    6354407\n",
       "Fraud         8213\n",
       "Name: isFraud, dtype: int64"
      ]
     },
     "execution_count": 16,
     "metadata": {},
     "output_type": "execute_result"
    }
   ],
   "source": [
    "data.isFraud.value_counts()"
   ]
  },
  {
   "cell_type": "markdown",
   "id": "9030e438",
   "metadata": {},
   "source": [
    "## <font color=dodgerblue>Counting the Flagged Genuine and Flagged Fraud Data in isFlaggedFraud Column</font>"
   ]
  },
  {
   "cell_type": "code",
   "execution_count": 17,
   "id": "34142ca9",
   "metadata": {},
   "outputs": [
    {
     "data": {
      "text/plain": [
       "Flagged Genuine    6362604\n",
       "Flagged Fraud           16\n",
       "Name: isFlaggedFraud, dtype: int64"
      ]
     },
     "execution_count": 17,
     "metadata": {},
     "output_type": "execute_result"
    }
   ],
   "source": [
    "data.isFlaggedFraud.value_counts()"
   ]
  },
  {
   "cell_type": "markdown",
   "id": "60292ac2",
   "metadata": {},
   "source": [
    "## <font color=dodgerblue>Creating separate dataframes for the Genuine and the Fraud Data</font>"
   ]
  },
  {
   "cell_type": "markdown",
   "id": "f13af61e",
   "metadata": {},
   "source": [
    " - **We are creating separate dataframes as working with the fraud data wont give us the right insights**"
   ]
  },
  {
   "cell_type": "markdown",
   "id": "c470bbba",
   "metadata": {},
   "source": [
    "- **<font color=deeppink>genuine_data</font> dataframe for the genuine data**\n",
    "- **<font color=deeppink>fraud_data</font> dataframe for the fraud data**"
   ]
  },
  {
   "cell_type": "code",
   "execution_count": 19,
   "id": "d49933c5",
   "metadata": {},
   "outputs": [],
   "source": [
    "genuine_data = data[data[\"isFraud\"]==\"Genuine\"]"
   ]
  },
  {
   "cell_type": "code",
   "execution_count": 20,
   "id": "964df5a0",
   "metadata": {},
   "outputs": [],
   "source": [
    "fraud_data = data[data[\"isFraud\"]==\"Fraud\"]"
   ]
  },
  {
   "cell_type": "markdown",
   "id": "e82189a8",
   "metadata": {},
   "source": [
    "## <font color=dodgerblue>Checking the Dataframes</font>"
   ]
  },
  {
   "cell_type": "code",
   "execution_count": 22,
   "id": "478c735d",
   "metadata": {},
   "outputs": [
    {
     "data": {
      "text/html": [
       "<div>\n",
       "<style scoped>\n",
       "    .dataframe tbody tr th:only-of-type {\n",
       "        vertical-align: middle;\n",
       "    }\n",
       "\n",
       "    .dataframe tbody tr th {\n",
       "        vertical-align: top;\n",
       "    }\n",
       "\n",
       "    .dataframe thead th {\n",
       "        text-align: right;\n",
       "    }\n",
       "</style>\n",
       "<table border=\"1\" class=\"dataframe\">\n",
       "  <thead>\n",
       "    <tr style=\"text-align: right;\">\n",
       "      <th></th>\n",
       "      <th>type</th>\n",
       "      <th>amount</th>\n",
       "      <th>nameOrig</th>\n",
       "      <th>oldbalanceOrg</th>\n",
       "      <th>newbalanceOrig</th>\n",
       "      <th>nameDest</th>\n",
       "      <th>oldbalanceDest</th>\n",
       "      <th>newbalanceDest</th>\n",
       "      <th>isFraud</th>\n",
       "      <th>isFlaggedFraud</th>\n",
       "    </tr>\n",
       "  </thead>\n",
       "  <tbody>\n",
       "    <tr>\n",
       "      <th>0</th>\n",
       "      <td>PAYMENT</td>\n",
       "      <td>9839.64</td>\n",
       "      <td>C1231006815</td>\n",
       "      <td>170136.0</td>\n",
       "      <td>160296.36</td>\n",
       "      <td>M1979787155</td>\n",
       "      <td>0.0</td>\n",
       "      <td>0.0</td>\n",
       "      <td>Genuine</td>\n",
       "      <td>Flagged Genuine</td>\n",
       "    </tr>\n",
       "    <tr>\n",
       "      <th>1</th>\n",
       "      <td>PAYMENT</td>\n",
       "      <td>1864.28</td>\n",
       "      <td>C1666544295</td>\n",
       "      <td>21249.0</td>\n",
       "      <td>19384.72</td>\n",
       "      <td>M2044282225</td>\n",
       "      <td>0.0</td>\n",
       "      <td>0.0</td>\n",
       "      <td>Genuine</td>\n",
       "      <td>Flagged Genuine</td>\n",
       "    </tr>\n",
       "    <tr>\n",
       "      <th>4</th>\n",
       "      <td>PAYMENT</td>\n",
       "      <td>11668.14</td>\n",
       "      <td>C2048537720</td>\n",
       "      <td>41554.0</td>\n",
       "      <td>29885.86</td>\n",
       "      <td>M1230701703</td>\n",
       "      <td>0.0</td>\n",
       "      <td>0.0</td>\n",
       "      <td>Genuine</td>\n",
       "      <td>Flagged Genuine</td>\n",
       "    </tr>\n",
       "    <tr>\n",
       "      <th>5</th>\n",
       "      <td>PAYMENT</td>\n",
       "      <td>7817.71</td>\n",
       "      <td>C90045638</td>\n",
       "      <td>53860.0</td>\n",
       "      <td>46042.29</td>\n",
       "      <td>M573487274</td>\n",
       "      <td>0.0</td>\n",
       "      <td>0.0</td>\n",
       "      <td>Genuine</td>\n",
       "      <td>Flagged Genuine</td>\n",
       "    </tr>\n",
       "    <tr>\n",
       "      <th>6</th>\n",
       "      <td>PAYMENT</td>\n",
       "      <td>7107.77</td>\n",
       "      <td>C154988899</td>\n",
       "      <td>183195.0</td>\n",
       "      <td>176087.23</td>\n",
       "      <td>M408069119</td>\n",
       "      <td>0.0</td>\n",
       "      <td>0.0</td>\n",
       "      <td>Genuine</td>\n",
       "      <td>Flagged Genuine</td>\n",
       "    </tr>\n",
       "  </tbody>\n",
       "</table>\n",
       "</div>"
      ],
      "text/plain": [
       "      type    amount     nameOrig  oldbalanceOrg  newbalanceOrig     nameDest  \\\n",
       "0  PAYMENT   9839.64  C1231006815       170136.0       160296.36  M1979787155   \n",
       "1  PAYMENT   1864.28  C1666544295        21249.0        19384.72  M2044282225   \n",
       "4  PAYMENT  11668.14  C2048537720        41554.0        29885.86  M1230701703   \n",
       "5  PAYMENT   7817.71    C90045638        53860.0        46042.29   M573487274   \n",
       "6  PAYMENT   7107.77   C154988899       183195.0       176087.23   M408069119   \n",
       "\n",
       "   oldbalanceDest  newbalanceDest  isFraud   isFlaggedFraud  \n",
       "0             0.0             0.0  Genuine  Flagged Genuine  \n",
       "1             0.0             0.0  Genuine  Flagged Genuine  \n",
       "4             0.0             0.0  Genuine  Flagged Genuine  \n",
       "5             0.0             0.0  Genuine  Flagged Genuine  \n",
       "6             0.0             0.0  Genuine  Flagged Genuine  "
      ]
     },
     "execution_count": 22,
     "metadata": {},
     "output_type": "execute_result"
    }
   ],
   "source": [
    "genuine_data.head()"
   ]
  },
  {
   "cell_type": "code",
   "execution_count": 23,
   "id": "fecf10b2",
   "metadata": {},
   "outputs": [
    {
     "data": {
      "text/html": [
       "<div>\n",
       "<style scoped>\n",
       "    .dataframe tbody tr th:only-of-type {\n",
       "        vertical-align: middle;\n",
       "    }\n",
       "\n",
       "    .dataframe tbody tr th {\n",
       "        vertical-align: top;\n",
       "    }\n",
       "\n",
       "    .dataframe thead th {\n",
       "        text-align: right;\n",
       "    }\n",
       "</style>\n",
       "<table border=\"1\" class=\"dataframe\">\n",
       "  <thead>\n",
       "    <tr style=\"text-align: right;\">\n",
       "      <th></th>\n",
       "      <th>type</th>\n",
       "      <th>amount</th>\n",
       "      <th>nameOrig</th>\n",
       "      <th>oldbalanceOrg</th>\n",
       "      <th>newbalanceOrig</th>\n",
       "      <th>nameDest</th>\n",
       "      <th>oldbalanceDest</th>\n",
       "      <th>newbalanceDest</th>\n",
       "      <th>isFraud</th>\n",
       "      <th>isFlaggedFraud</th>\n",
       "    </tr>\n",
       "  </thead>\n",
       "  <tbody>\n",
       "    <tr>\n",
       "      <th>2</th>\n",
       "      <td>TRANSFER</td>\n",
       "      <td>181.0</td>\n",
       "      <td>C1305486145</td>\n",
       "      <td>181.0</td>\n",
       "      <td>0.0</td>\n",
       "      <td>C553264065</td>\n",
       "      <td>0.0</td>\n",
       "      <td>0.0</td>\n",
       "      <td>Fraud</td>\n",
       "      <td>Flagged Genuine</td>\n",
       "    </tr>\n",
       "    <tr>\n",
       "      <th>3</th>\n",
       "      <td>CASH_OUT</td>\n",
       "      <td>181.0</td>\n",
       "      <td>C840083671</td>\n",
       "      <td>181.0</td>\n",
       "      <td>0.0</td>\n",
       "      <td>C38997010</td>\n",
       "      <td>21182.0</td>\n",
       "      <td>0.0</td>\n",
       "      <td>Fraud</td>\n",
       "      <td>Flagged Genuine</td>\n",
       "    </tr>\n",
       "    <tr>\n",
       "      <th>251</th>\n",
       "      <td>TRANSFER</td>\n",
       "      <td>2806.0</td>\n",
       "      <td>C1420196421</td>\n",
       "      <td>2806.0</td>\n",
       "      <td>0.0</td>\n",
       "      <td>C972765878</td>\n",
       "      <td>0.0</td>\n",
       "      <td>0.0</td>\n",
       "      <td>Fraud</td>\n",
       "      <td>Flagged Genuine</td>\n",
       "    </tr>\n",
       "    <tr>\n",
       "      <th>252</th>\n",
       "      <td>CASH_OUT</td>\n",
       "      <td>2806.0</td>\n",
       "      <td>C2101527076</td>\n",
       "      <td>2806.0</td>\n",
       "      <td>0.0</td>\n",
       "      <td>C1007251739</td>\n",
       "      <td>26202.0</td>\n",
       "      <td>0.0</td>\n",
       "      <td>Fraud</td>\n",
       "      <td>Flagged Genuine</td>\n",
       "    </tr>\n",
       "    <tr>\n",
       "      <th>680</th>\n",
       "      <td>TRANSFER</td>\n",
       "      <td>20128.0</td>\n",
       "      <td>C137533655</td>\n",
       "      <td>20128.0</td>\n",
       "      <td>0.0</td>\n",
       "      <td>C1848415041</td>\n",
       "      <td>0.0</td>\n",
       "      <td>0.0</td>\n",
       "      <td>Fraud</td>\n",
       "      <td>Flagged Genuine</td>\n",
       "    </tr>\n",
       "  </tbody>\n",
       "</table>\n",
       "</div>"
      ],
      "text/plain": [
       "         type   amount     nameOrig  oldbalanceOrg  newbalanceOrig  \\\n",
       "2    TRANSFER    181.0  C1305486145          181.0             0.0   \n",
       "3    CASH_OUT    181.0   C840083671          181.0             0.0   \n",
       "251  TRANSFER   2806.0  C1420196421         2806.0             0.0   \n",
       "252  CASH_OUT   2806.0  C2101527076         2806.0             0.0   \n",
       "680  TRANSFER  20128.0   C137533655        20128.0             0.0   \n",
       "\n",
       "        nameDest  oldbalanceDest  newbalanceDest isFraud   isFlaggedFraud  \n",
       "2     C553264065             0.0             0.0   Fraud  Flagged Genuine  \n",
       "3      C38997010         21182.0             0.0   Fraud  Flagged Genuine  \n",
       "251   C972765878             0.0             0.0   Fraud  Flagged Genuine  \n",
       "252  C1007251739         26202.0             0.0   Fraud  Flagged Genuine  \n",
       "680  C1848415041             0.0             0.0   Fraud  Flagged Genuine  "
      ]
     },
     "execution_count": 23,
     "metadata": {},
     "output_type": "execute_result"
    }
   ],
   "source": [
    "fraud_data.head()"
   ]
  },
  {
   "cell_type": "markdown",
   "id": "03392cfa",
   "metadata": {},
   "source": [
    "## <font color=dodgerblue>Analysis on the Fraud Data</font>"
   ]
  },
  {
   "cell_type": "markdown",
   "id": "7899910b",
   "metadata": {},
   "source": [
    " - **Total Count of the Fraud Data**"
   ]
  },
  {
   "cell_type": "code",
   "execution_count": 26,
   "id": "05b1c12d",
   "metadata": {},
   "outputs": [
    {
     "name": "stdout",
     "output_type": "stream",
     "text": [
      "Total Count of Fraud Data - 8213\n"
     ]
    }
   ],
   "source": [
    "print(f\"Total Count of Fraud Data - {len(fraud_data)}\")"
   ]
  },
  {
   "cell_type": "markdown",
   "id": "68ab3390",
   "metadata": {},
   "source": [
    "## <font color=dodgerblue>Checking Flagged Correctly or Wrongly</font>"
   ]
  },
  {
   "cell_type": "markdown",
   "id": "5a80bd80",
   "metadata": {},
   "source": [
    " - **Flagged Correctly means the transaction was fraud and it was flagged as fraud**"
   ]
  },
  {
   "cell_type": "code",
   "execution_count": 27,
   "id": "f1721384",
   "metadata": {},
   "outputs": [
    {
     "name": "stdout",
     "output_type": "stream",
     "text": [
      "Flagged Fraud Count - 16\n",
      "Flagged Fraud Percentage - 0.19 %\n"
     ]
    }
   ],
   "source": [
    "print(f'Flagged Fraud Count - {len(fraud_data[fraud_data[\"isFlaggedFraud\"]==\"Flagged Fraud\"])}')\n",
    "print(f\"Flagged Fraud Percentage - {round(len(fraud_data[fraud_data['isFlaggedFraud']=='Flagged Fraud'])/len(fraud_data),4)*100} %\")"
   ]
  },
  {
   "cell_type": "markdown",
   "id": "2c8057e1",
   "metadata": {},
   "source": [
    " - **Flagged Wrongly means the transaction was fraud but it was flagged as genuine**"
   ]
  },
  {
   "cell_type": "code",
   "execution_count": 28,
   "id": "45e9876a",
   "metadata": {},
   "outputs": [
    {
     "name": "stdout",
     "output_type": "stream",
     "text": [
      "Flagged Genuine Count - 8197\n",
      "Flagged Genuine Percentage - 99.81 %\n"
     ]
    }
   ],
   "source": [
    "print(f'Flagged Genuine Count - {len(fraud_data[fraud_data[\"isFlaggedFraud\"]==\"Flagged Genuine\"])}')\n",
    "print(f\"Flagged Genuine Percentage - {round(len(fraud_data[fraud_data['isFlaggedFraud']=='Flagged Genuine'])/len(fraud_data),4)*100} %\")"
   ]
  },
  {
   "cell_type": "markdown",
   "id": "e796098c",
   "metadata": {},
   "source": [
    "## <font color=dodgerblue>Analysis on the Genuine Data</font>"
   ]
  },
  {
   "cell_type": "markdown",
   "id": "33b7fba6",
   "metadata": {},
   "source": [
    " - **Total Count of the Genuine Data**"
   ]
  },
  {
   "cell_type": "code",
   "execution_count": 29,
   "id": "c9721950",
   "metadata": {},
   "outputs": [
    {
     "name": "stdout",
     "output_type": "stream",
     "text": [
      " Total Count of Genuine Data - 6354407\n"
     ]
    }
   ],
   "source": [
    "print(f\" Total Count of Genuine Data - {len(genuine_data)}\")"
   ]
  },
  {
   "cell_type": "markdown",
   "id": "798da799",
   "metadata": {},
   "source": [
    "## <font color=dodgerblue>Checking Flagged Correctly or Wrongly</font>"
   ]
  },
  {
   "cell_type": "markdown",
   "id": "9d7dbdad",
   "metadata": {},
   "source": [
    " - **Flagged Correctly means the transaction was genuine and it was flagged as genuine**"
   ]
  },
  {
   "cell_type": "code",
   "execution_count": 30,
   "id": "552557b9",
   "metadata": {},
   "outputs": [
    {
     "name": "stdout",
     "output_type": "stream",
     "text": [
      "Flagged Genuine Count - 6354407\n",
      "Flagged Genuine Percentage - 100.0 %\n"
     ]
    }
   ],
   "source": [
    "print(f'Flagged Genuine Count - {len(genuine_data[genuine_data[\"isFlaggedFraud\"]==\"Flagged Genuine\"])}')\n",
    "print(f\"Flagged Genuine Percentage - {round(len(genuine_data[genuine_data['isFlaggedFraud']=='Flagged Genuine'])/len(genuine_data),4)*100} %\")"
   ]
  },
  {
   "cell_type": "markdown",
   "id": "6dcbaef8",
   "metadata": {},
   "source": [
    " - **Flagged Wrongly means the transaction was genuine but it was flagged as fraud**"
   ]
  },
  {
   "cell_type": "code",
   "execution_count": 31,
   "id": "7ee0bd55",
   "metadata": {},
   "outputs": [
    {
     "name": "stdout",
     "output_type": "stream",
     "text": [
      "Flagged Fraud Count - 0\n",
      "Flagged Fraud Percentage - 0.0 %\n"
     ]
    }
   ],
   "source": [
    "print(f'Flagged Fraud Count - {len(genuine_data[genuine_data[\"isFlaggedFraud\"]==\"Flagged Fraud\"])}')\n",
    "print(f\"Flagged Fraud Percentage - {round(len(genuine_data[genuine_data['isFlaggedFraud']=='Flagged Fraud'])/len(genuine_data),4)*100} %\")"
   ]
  }
 ],
 "metadata": {
  "kernelspec": {
   "display_name": "Python 3 (ipykernel)",
   "language": "python",
   "name": "python3"
  },
  "language_info": {
   "codemirror_mode": {
    "name": "ipython",
    "version": 3
   },
   "file_extension": ".py",
   "mimetype": "text/x-python",
   "name": "python",
   "nbconvert_exporter": "python",
   "pygments_lexer": "ipython3",
   "version": "3.9.12"
  }
 },
 "nbformat": 4,
 "nbformat_minor": 5
}
